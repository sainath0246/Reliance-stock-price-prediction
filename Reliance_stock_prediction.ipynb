{
 "cells": [
  {
   "cell_type": "code",
   "execution_count": 4,
   "id": "d7ea649f",
   "metadata": {},
   "outputs": [
    {
     "name": "stdout",
     "output_type": "stream",
     "text": [
      "[*********************100%***********************]  1 of 1 completed\n"
     ]
    }
   ],
   "source": [
    "import yfinance as yf\n",
    "start_date='2019-10-25'\n",
    "end_date='2022-10-26'\n",
    "ticker='RELIANCE.NS'\n",
    "df=yf.download(ticker,start_date,end_date)\n",
    "df.to_csv(\"Reliance_stock_price.csv\")"
   ]
  },
  {
   "cell_type": "code",
   "execution_count": 76,
   "id": "e63ba9cc",
   "metadata": {},
   "outputs": [],
   "source": [
    "import pandas as pd\n",
    "df=pd.read_csv('Reliance_stock_price.csv')"
   ]
  },
  {
   "cell_type": "code",
   "execution_count": 77,
   "id": "c218b822",
   "metadata": {},
   "outputs": [
    {
     "data": {
      "text/html": [
       "<div>\n",
       "<style scoped>\n",
       "    .dataframe tbody tr th:only-of-type {\n",
       "        vertical-align: middle;\n",
       "    }\n",
       "\n",
       "    .dataframe tbody tr th {\n",
       "        vertical-align: top;\n",
       "    }\n",
       "\n",
       "    .dataframe thead th {\n",
       "        text-align: right;\n",
       "    }\n",
       "</style>\n",
       "<table border=\"1\" class=\"dataframe\">\n",
       "  <thead>\n",
       "    <tr style=\"text-align: right;\">\n",
       "      <th></th>\n",
       "      <th>Date</th>\n",
       "      <th>Open</th>\n",
       "      <th>High</th>\n",
       "      <th>Low</th>\n",
       "      <th>Close</th>\n",
       "      <th>Adj Close</th>\n",
       "      <th>Volume</th>\n",
       "    </tr>\n",
       "  </thead>\n",
       "  <tbody>\n",
       "    <tr>\n",
       "      <th>742</th>\n",
       "      <td>2022-10-19</td>\n",
       "      <td>2454.500000</td>\n",
       "      <td>2527.850098</td>\n",
       "      <td>2441.699951</td>\n",
       "      <td>2493.899902</td>\n",
       "      <td>2493.899902</td>\n",
       "      <td>8882553</td>\n",
       "    </tr>\n",
       "    <tr>\n",
       "      <th>743</th>\n",
       "      <td>2022-10-20</td>\n",
       "      <td>2485.000000</td>\n",
       "      <td>2519.000000</td>\n",
       "      <td>2485.000000</td>\n",
       "      <td>2500.600098</td>\n",
       "      <td>2500.600098</td>\n",
       "      <td>4022919</td>\n",
       "    </tr>\n",
       "    <tr>\n",
       "      <th>744</th>\n",
       "      <td>2022-10-21</td>\n",
       "      <td>2507.699951</td>\n",
       "      <td>2516.800049</td>\n",
       "      <td>2467.000000</td>\n",
       "      <td>2471.600098</td>\n",
       "      <td>2471.600098</td>\n",
       "      <td>3804352</td>\n",
       "    </tr>\n",
       "    <tr>\n",
       "      <th>745</th>\n",
       "      <td>2022-10-24</td>\n",
       "      <td>2460.000000</td>\n",
       "      <td>2502.500000</td>\n",
       "      <td>2455.300049</td>\n",
       "      <td>2479.850098</td>\n",
       "      <td>2479.850098</td>\n",
       "      <td>1555270</td>\n",
       "    </tr>\n",
       "    <tr>\n",
       "      <th>746</th>\n",
       "      <td>2022-10-25</td>\n",
       "      <td>2499.000000</td>\n",
       "      <td>2499.000000</td>\n",
       "      <td>2438.000000</td>\n",
       "      <td>2441.550049</td>\n",
       "      <td>2441.550049</td>\n",
       "      <td>5645639</td>\n",
       "    </tr>\n",
       "  </tbody>\n",
       "</table>\n",
       "</div>"
      ],
      "text/plain": [
       "           Date         Open         High          Low        Close  \\\n",
       "742  2022-10-19  2454.500000  2527.850098  2441.699951  2493.899902   \n",
       "743  2022-10-20  2485.000000  2519.000000  2485.000000  2500.600098   \n",
       "744  2022-10-21  2507.699951  2516.800049  2467.000000  2471.600098   \n",
       "745  2022-10-24  2460.000000  2502.500000  2455.300049  2479.850098   \n",
       "746  2022-10-25  2499.000000  2499.000000  2438.000000  2441.550049   \n",
       "\n",
       "       Adj Close   Volume  \n",
       "742  2493.899902  8882553  \n",
       "743  2500.600098  4022919  \n",
       "744  2471.600098  3804352  \n",
       "745  2479.850098  1555270  \n",
       "746  2441.550049  5645639  "
      ]
     },
     "execution_count": 77,
     "metadata": {},
     "output_type": "execute_result"
    }
   ],
   "source": [
    "df.tail()"
   ]
  },
  {
   "cell_type": "code",
   "execution_count": 78,
   "id": "b8e57721",
   "metadata": {},
   "outputs": [],
   "source": [
    "df_1=df['Close']"
   ]
  },
  {
   "cell_type": "code",
   "execution_count": 79,
   "id": "c1036cf6",
   "metadata": {},
   "outputs": [
    {
     "data": {
      "text/plain": [
       "(747,)"
      ]
     },
     "execution_count": 79,
     "metadata": {},
     "output_type": "execute_result"
    }
   ],
   "source": [
    "df_1.shape"
   ]
  },
  {
   "cell_type": "code",
   "execution_count": 111,
   "id": "fe77a123",
   "metadata": {},
   "outputs": [
    {
     "data": {
      "text/plain": [
       "<AxesSubplot:>"
      ]
     },
     "execution_count": 111,
     "metadata": {},
     "output_type": "execute_result"
    },
    {
     "data": {
      "image/png": "[encoded data removed]",
      "text/plain": [
       "<Figure size 432x288 with 1 Axes>"
      ]
     },
     "metadata": {
      "needs_background": "light"
     },
     "output_type": "display_data"
    }
   ],
   "source": [
    "import matplotlib.pyplot as plt\n",
    "df_1.plot()"
   ]
  },
  {
   "cell_type": "code",
   "execution_count": 81,
   "id": "ff7629e6",
   "metadata": {},
   "outputs": [
    {
     "data": {
      "text/plain": [
       "2819.85009765625"
      ]
     },
     "execution_count": 81,
     "metadata": {},
     "output_type": "execute_result"
    }
   ],
   "source": [
    "m=df_1.max()\n",
    "m"
   ]
  },
  {
   "cell_type": "code",
   "execution_count": 82,
   "id": "60afc0fd",
   "metadata": {},
   "outputs": [],
   "source": [
    "df1=df_1/m"
   ]
  },
  {
   "cell_type": "code",
   "execution_count": 83,
   "id": "7f1bb0ad",
   "metadata": {},
   "outputs": [],
   "source": [
    "import numpy as np\n",
    "df=np.array(df1).reshape(-1,1)"
   ]
  },
  {
   "cell_type": "code",
   "execution_count": 84,
   "id": "62dc1c01",
   "metadata": {},
   "outputs": [
    {
     "data": {
      "text/plain": [
       "(747, 1)"
      ]
     },
     "execution_count": 84,
     "metadata": {},
     "output_type": "execute_result"
    }
   ],
   "source": [
    "df.shape"
   ]
  },
  {
   "cell_type": "code",
   "execution_count": 85,
   "id": "1981303b",
   "metadata": {},
   "outputs": [],
   "source": [
    "train_size=int(len(df)*0.65)\n",
    "test_size=len(df*0.35)\n",
    "train_data=df[0:train_size]\n",
    "test_data=df[train_size:len(df)]"
   ]
  },
  {
   "cell_type": "code",
   "execution_count": 86,
   "id": "db55ca71",
   "metadata": {},
   "outputs": [
    {
     "data": {
      "text/plain": [
       "((485, 1), (262, 1))"
      ]
     },
     "execution_count": 86,
     "metadata": {},
     "output_type": "execute_result"
    }
   ],
   "source": [
    "train_data.shape,test_data.shape"
   ]
  },
  {
   "cell_type": "code",
   "execution_count": 87,
   "id": "2d2d1bfd",
   "metadata": {},
   "outputs": [],
   "source": [
    "def create_data_set(dataset,time_stamp):\n",
    "    X,Y=[],[]\n",
    "    for i in range(len(dataset)-time_stamp-1):\n",
    "        a=dataset[i:i+time_stamp,0]\n",
    "        X.append(a)\n",
    "        Y.append(dataset[i+time_stamp,0])\n",
    "    return np.array(X),np.array(Y)"
   ]
  },
  {
   "cell_type": "code",
   "execution_count": 88,
   "id": "272dcc03",
   "metadata": {},
   "outputs": [],
   "source": [
    "#time_stamp=30\n",
    "X_train,Y_train=create_data_set(train_data,30)\n",
    "X_test,Y_test=create_data_set(test_data,30)"
   ]
  },
  {
   "cell_type": "code",
   "execution_count": 89,
   "id": "68dd7199",
   "metadata": {},
   "outputs": [
    {
     "data": {
      "text/plain": [
       "((454, 30), (231, 30))"
      ]
     },
     "execution_count": 89,
     "metadata": {},
     "output_type": "execute_result"
    }
   ],
   "source": [
    "X_train.shape,X_test.shape"
   ]
  },
  {
   "cell_type": "code",
   "execution_count": 90,
   "id": "8b1175e2",
   "metadata": {},
   "outputs": [],
   "source": [
    "X_test=np.expand_dims(X_test,axis=2)\n",
    "X_train=np.expand_dims(X_train,axis=2)\n"
   ]
  },
  {
   "cell_type": "code",
   "execution_count": 91,
   "id": "e2bf3992",
   "metadata": {},
   "outputs": [
    {
     "data": {
      "text/plain": [
       "((454, 30, 1), (231, 30, 1))"
      ]
     },
     "execution_count": 91,
     "metadata": {},
     "output_type": "execute_result"
    }
   ],
   "source": [
    "X_train.shape,X_test.shape"
   ]
  },
  {
   "cell_type": "code",
   "execution_count": 92,
   "id": "3d1c726c",
   "metadata": {},
   "outputs": [],
   "source": [
    "import tensorflow as tf\n",
    "from tensorflow.keras.models import Sequential\n",
    "from tensorflow.keras.layers import LSTM\n",
    "from tensorflow.keras.layers import Dense\n",
    "\n"
   ]
  },
  {
   "cell_type": "code",
   "execution_count": 97,
   "id": "51351e86",
   "metadata": {},
   "outputs": [],
   "source": [
    "model=Sequential()\n",
    "model.add(LSTM(50,return_sequences=True,input_shape=(30,1)))\n",
    "model.add(LSTM(50,return_sequences=True))\n",
    "model.add(LSTM(50))\n",
    "model.add(Dense(1))\n"
   ]
  },
  {
   "cell_type": "code",
   "execution_count": 98,
   "id": "f5df60b3",
   "metadata": {},
   "outputs": [
    {
     "name": "stdout",
     "output_type": "stream",
     "text": [
      "Model: \"sequential_4\"\n",
      "_________________________________________________________________\n",
      " Layer (type)                Output Shape              Param #   \n",
      "=================================================================\n",
      " lstm_9 (LSTM)               (None, 30, 50)            10400     \n",
      "                                                                 \n",
      " lstm_10 (LSTM)              (None, 30, 50)            20200     \n",
      "                                                                 \n",
      " lstm_11 (LSTM)              (None, 50)                20200     \n",
      "                                                                 \n",
      " dense_2 (Dense)             (None, 1)                 51        \n",
      "                                                                 \n",
      "=================================================================\n",
      "Total params: 50,851\n",
      "Trainable params: 50,851\n",
      "Non-trainable params: 0\n",
      "_________________________________________________________________\n"
     ]
    }
   ],
   "source": [
    "model.summary()"
   ]
  },
  {
   "cell_type": "code",
   "execution_count": 99,
   "id": "8a86e6a5",
   "metadata": {},
   "outputs": [
    {
     "name": "stderr",
     "output_type": "stream",
     "text": [
      "C:\\Users\\HOME\\anaconda3\\lib\\site-packages\\keras\\optimizer_v2\\adam.py:105: UserWarning: The `lr` argument is deprecated, use `learning_rate` instead.\n",
      "  super(Adam, self).__init__(name, **kwargs)\n"
     ]
    }
   ],
   "source": [
    "model.compile(loss='mean_squared_error',optimizer=tf.keras.optimizers.Adam(lr=0.01),metrics='mae')"
   ]
  },
  {
   "cell_type": "code",
   "execution_count": 100,
   "id": "5265a4f9",
   "metadata": {},
   "outputs": [
    {
     "name": "stdout",
     "output_type": "stream",
     "text": [
      "Epoch 1/10\n",
      "57/57 [==============================] - 24s 89ms/step - loss: 0.0574 - mae: 0.1458\n",
      "Epoch 2/10\n",
      "57/57 [==============================] - 6s 99ms/step - loss: 0.0026 - mae: 0.0385\n",
      "Epoch 3/10\n",
      "57/57 [==============================] - 6s 97ms/step - loss: 0.0015 - mae: 0.0304\n",
      "Epoch 4/10\n",
      "57/57 [==============================] - 6s 105ms/step - loss: 0.0012 - mae: 0.0272\n",
      "Epoch 5/10\n",
      "57/57 [==============================] - 6s 100ms/step - loss: 0.0014 - mae: 0.0291\n",
      "Epoch 6/10\n",
      "57/57 [==============================] - 6s 106ms/step - loss: 0.0013 - mae: 0.0275\n",
      "Epoch 7/10\n",
      "57/57 [==============================] - 6s 99ms/step - loss: 0.0016 - mae: 0.0314\n",
      "Epoch 8/10\n",
      "57/57 [==============================] - 6s 108ms/step - loss: 9.7627e-04 - mae: 0.0253\n",
      "Epoch 9/10\n",
      "57/57 [==============================] - 5s 93ms/step - loss: 0.0013 - mae: 0.0274\n",
      "Epoch 10/10\n",
      "57/57 [==============================] - 7s 117ms/step - loss: 8.4980e-04 - mae: 0.0236\n"
     ]
    }
   ],
   "source": [
    "f=model.fit(X_train,Y_train,batch_size=8,epochs=10)"
   ]
  },
  {
   "cell_type": "code",
   "execution_count": 101,
   "id": "33336fac",
   "metadata": {},
   "outputs": [],
   "source": [
    "train_pred=model.predict(X_train)\n",
    "test_pred=model.predict(X_test)"
   ]
  },
  {
   "cell_type": "code",
   "execution_count": 102,
   "id": "44dc6f98",
   "metadata": {},
   "outputs": [],
   "source": [
    "df_m=pd.DataFrame(f.history)"
   ]
  },
  {
   "cell_type": "code",
   "execution_count": 103,
   "id": "bdbfee97",
   "metadata": {},
   "outputs": [
    {
     "data": {
      "text/plain": [
       "<AxesSubplot:>"
      ]
     },
     "execution_count": 103,
     "metadata": {},
     "output_type": "execute_result"
    },
    {
     "data": {
      "image/png": "[encoded data removed]",
      "text/plain": [
       "<Figure size 432x288 with 1 Axes>"
      ]
     },
     "metadata": {
      "needs_background": "light"
     },
     "output_type": "display_data"
    }
   ],
   "source": [
    "df_m.plot()"
   ]
  },
  {
   "cell_type": "code",
   "execution_count": 104,
   "id": "c4cdd829",
   "metadata": {},
   "outputs": [
    {
     "data": {
      "text/plain": [
       "(array([[1567.4408 ],\n",
       "        [1563.0381 ],\n",
       "        [1559.4614 ],\n",
       "        [1556.945  ],\n",
       "        [1555.8114 ],\n",
       "        [1556.853  ],\n",
       "        [1558.7737 ],\n",
       "        [1560.452  ],\n",
       "        [1562.1907 ],\n",
       "        [1566.2023 ],\n",
       "        [1571.9846 ],\n",
       "        [1576.8086 ],\n",
       "        [1577.7998 ],\n",
       "        [1572.5538 ],\n",
       "        [1563.5951 ],\n",
       "        [1553.5596 ],\n",
       "        [1542.5933 ],\n",
       "        [1531.352  ],\n",
       "        [1522.4376 ],\n",
       "        [1517.0588 ],\n",
       "        [1512.9729 ],\n",
       "        [1510.6084 ],\n",
       "        [1509.1266 ],\n",
       "        [1510.3239 ],\n",
       "        [1514.2811 ],\n",
       "        [1519.9578 ],\n",
       "        [1525.2327 ],\n",
       "        [1528.6178 ],\n",
       "        [1530.6195 ],\n",
       "        [1534.4486 ],\n",
       "        [1537.753  ],\n",
       "        [1539.5813 ],\n",
       "        [1539.6434 ],\n",
       "        [1537.8044 ],\n",
       "        [1534.2395 ],\n",
       "        [1528.6932 ],\n",
       "        [1519.646  ],\n",
       "        [1508.3167 ],\n",
       "        [1494.1437 ],\n",
       "        [1476.4166 ],\n",
       "        [1455.078  ],\n",
       "        [1434.7771 ],\n",
       "        [1419.9094 ],\n",
       "        [1412.6714 ],\n",
       "        [1411.1598 ],\n",
       "        [1413.367  ],\n",
       "        [1418.4506 ],\n",
       "        [1426.2217 ],\n",
       "        [1435.8444 ],\n",
       "        [1446.8783 ],\n",
       "        [1457.5914 ],\n",
       "        [1465.9993 ],\n",
       "        [1473.5977 ],\n",
       "        [1479.6471 ],\n",
       "        [1481.2764 ],\n",
       "        [1476.3438 ],\n",
       "        [1464.1885 ],\n",
       "        [1446.592  ],\n",
       "        [1423.0776 ],\n",
       "        [1395.4541 ],\n",
       "        [1368.7035 ],\n",
       "        [1346.1768 ],\n",
       "        [1327.9532 ],\n",
       "        [1311.6206 ],\n",
       "        [1287.0295 ],\n",
       "        [1255.3732 ],\n",
       "        [1215.3612 ],\n",
       "        [1173.3473 ],\n",
       "        [1129.9523 ],\n",
       "        [1087.8151 ],\n",
       "        [1047.917  ],\n",
       "        [1009.5201 ],\n",
       "        [ 979.7373 ],\n",
       "        [ 954.2167 ],\n",
       "        [ 934.6312 ],\n",
       "        [ 929.46875],\n",
       "        [ 939.27026],\n",
       "        [ 960.4003 ],\n",
       "        [ 985.3006 ],\n",
       "        [1012.99445],\n",
       "        [1039.1754 ],\n",
       "        [1060.7117 ],\n",
       "        [1083.7234 ],\n",
       "        [1108.849  ],\n",
       "        [1136.1448 ],\n",
       "        [1161.5992 ],\n",
       "        [1179.8177 ],\n",
       "        [1189.9551 ],\n",
       "        [1196.3094 ],\n",
       "        [1202.6096 ],\n",
       "        [1209.7953 ],\n",
       "        [1225.1998 ],\n",
       "        [1249.7529 ],\n",
       "        [1283.0765 ],\n",
       "        [1321.6401 ],\n",
       "        [1360.0978 ],\n",
       "        [1393.6833 ],\n",
       "        [1421.8746 ],\n",
       "        [1442.1597 ],\n",
       "        [1455.7356 ],\n",
       "        [1463.8563 ],\n",
       "        [1470.7478 ],\n",
       "        [1481.4865 ],\n",
       "        [1497.6292 ],\n",
       "        [1511.1926 ],\n",
       "        [1520.3398 ],\n",
       "        [1520.6989 ],\n",
       "        [1514.0001 ],\n",
       "        [1501.8665 ],\n",
       "        [1485.0326 ],\n",
       "        [1467.4985 ],\n",
       "        [1452.6053 ],\n",
       "        [1441.4305 ],\n",
       "        [1433.7313 ],\n",
       "        [1430.3276 ],\n",
       "        [1432.4628 ],\n",
       "        [1438.7982 ],\n",
       "        [1450.9923 ],\n",
       "        [1468.6747 ],\n",
       "        [1489.784  ],\n",
       "        [1513.8102 ],\n",
       "        [1538.4908 ],\n",
       "        [1560.4467 ],\n",
       "        [1575.4075 ],\n",
       "        [1584.5807 ],\n",
       "        [1587.0356 ],\n",
       "        [1587.2048 ],\n",
       "        [1589.1013 ],\n",
       "        [1594.1117 ],\n",
       "        [1601.5322 ],\n",
       "        [1612.5616 ],\n",
       "        [1632.8613 ],\n",
       "        [1660.4645 ],\n",
       "        [1689.437  ],\n",
       "        [1715.4724 ],\n",
       "        [1735.0549 ],\n",
       "        [1748.6769 ],\n",
       "        [1755.889  ],\n",
       "        [1756.4043 ],\n",
       "        [1753.8627 ],\n",
       "        [1752.0642 ],\n",
       "        [1754.3262 ],\n",
       "        [1765.0985 ],\n",
       "        [1781.4907 ],\n",
       "        [1798.1803 ],\n",
       "        [1813.4551 ],\n",
       "        [1829.4987 ],\n",
       "        [1849.8567 ],\n",
       "        [1872.471  ],\n",
       "        [1889.6117 ],\n",
       "        [1898.28   ],\n",
       "        [1903.2135 ],\n",
       "        [1907.4089 ],\n",
       "        [1915.6174 ],\n",
       "        [1930.3649 ],\n",
       "        [1953.747  ],\n",
       "        [1988.8694 ],\n",
       "        [2032.3141 ],\n",
       "        [2079.244  ],\n",
       "        [2117.9646 ],\n",
       "        [2144.2815 ],\n",
       "        [2154.8103 ],\n",
       "        [2147.625  ],\n",
       "        [2136.5925 ],\n",
       "        [2126.7017 ],\n",
       "        [2121.1191 ],\n",
       "        [2121.0513 ],\n",
       "        [2123.6057 ],\n",
       "        [2127.7148 ],\n",
       "        [2131.7    ],\n",
       "        [2134.3108 ],\n",
       "        [2134.6702 ],\n",
       "        [2131.4536 ],\n",
       "        [2127.1682 ],\n",
       "        [2124.155  ],\n",
       "        [2120.902  ],\n",
       "        [2116.142  ],\n",
       "        [2110.95   ],\n",
       "        [2105.199  ],\n",
       "        [2103.217  ],\n",
       "        [2103.965  ],\n",
       "        [2106.8706 ],\n",
       "        [2108.4785 ],\n",
       "        [2108.1477 ],\n",
       "        [2108.8638 ],\n",
       "        [2110.3633 ],\n",
       "        [2110.0085 ],\n",
       "        [2107.6543 ],\n",
       "        [2105.4683 ],\n",
       "        [2108.1167 ],\n",
       "        [2126.5632 ],\n",
       "        [2160.2285 ],\n",
       "        [2201.8599 ],\n",
       "        [2244.804  ],\n",
       "        [2283.4175 ],\n",
       "        [2312.16   ],\n",
       "        [2330.0396 ],\n",
       "        [2334.6943 ],\n",
       "        [2325.293  ],\n",
       "        [2306.983  ],\n",
       "        [2281.5088 ],\n",
       "        [2254.5327 ],\n",
       "        [2231.1545 ],\n",
       "        [2215.9485 ],\n",
       "        [2208.8809 ],\n",
       "        [2207.8208 ],\n",
       "        [2209.5688 ],\n",
       "        [2211.9365 ],\n",
       "        [2217.0356 ],\n",
       "        [2223.3672 ],\n",
       "        [2229.458  ],\n",
       "        [2234.6506 ],\n",
       "        [2241.5903 ],\n",
       "        [2250.79   ],\n",
       "        [2255.7566 ],\n",
       "        [2252.793  ],\n",
       "        [2242.528  ],\n",
       "        [2226.229  ],\n",
       "        [2204.9004 ],\n",
       "        [2180.432  ],\n",
       "        [2156.3362 ],\n",
       "        [2129.7058 ],\n",
       "        [2102.3245 ],\n",
       "        [2075.114  ],\n",
       "        [2051.327  ],\n",
       "        [2034.8635 ],\n",
       "        [2014.5972 ],\n",
       "        [1986.9039 ],\n",
       "        [1957.9017 ],\n",
       "        [1935.0441 ],\n",
       "        [1926.6241 ],\n",
       "        [1934.6542 ],\n",
       "        [1957.8856 ],\n",
       "        [1984.5247 ],\n",
       "        [2006.1598 ],\n",
       "        [2020.2395 ],\n",
       "        [2027.1605 ],\n",
       "        [2027.9579 ],\n",
       "        [2024.2125 ],\n",
       "        [2016.9758 ],\n",
       "        [2002.9559 ],\n",
       "        [1986.9073 ],\n",
       "        [1972.8975 ],\n",
       "        [1961.9413 ],\n",
       "        [1954.7769 ],\n",
       "        [1949.6119 ],\n",
       "        [1947.2827 ],\n",
       "        [1947.7391 ],\n",
       "        [1950.7269 ],\n",
       "        [1954.1909 ],\n",
       "        [1957.7988 ],\n",
       "        [1963.5529 ],\n",
       "        [1973.6208 ],\n",
       "        [1985.8539 ],\n",
       "        [1998.0491 ],\n",
       "        [2007.4722 ],\n",
       "        [2011.947  ],\n",
       "        [2011.6578 ],\n",
       "        [2008.4647 ],\n",
       "        [2004.447  ],\n",
       "        [1997.3717 ],\n",
       "        [1987.4132 ],\n",
       "        [1976.333  ],\n",
       "        [1969.2194 ],\n",
       "        [1968.1809 ],\n",
       "        [1971.8369 ],\n",
       "        [1978.6218 ],\n",
       "        [1985.9237 ],\n",
       "        [1992.2542 ],\n",
       "        [1997.0723 ],\n",
       "        [1998.5756 ],\n",
       "        [1993.2996 ],\n",
       "        [1981.7145 ],\n",
       "        [1967.7513 ],\n",
       "        [1951.9945 ],\n",
       "        [1940.2944 ],\n",
       "        [1933.3928 ],\n",
       "        [1932.4664 ],\n",
       "        [1934.9335 ],\n",
       "        [1941.956  ],\n",
       "        [1954.5436 ],\n",
       "        [1973.6088 ],\n",
       "        [1999.7769 ],\n",
       "        [2026.4099 ],\n",
       "        [2041.6558 ],\n",
       "        [2039.5353 ],\n",
       "        [2020.7411 ],\n",
       "        [1988.5374 ],\n",
       "        [1953.2538 ],\n",
       "        [1923.9823 ],\n",
       "        [1905.2045 ],\n",
       "        [1896.9624 ],\n",
       "        [1897.1156 ],\n",
       "        [1904.5117 ],\n",
       "        [1916.7167 ],\n",
       "        [1932.1041 ],\n",
       "        [1953.8481 ],\n",
       "        [1979.3009 ],\n",
       "        [2004.4054 ],\n",
       "        [2027.7932 ],\n",
       "        [2049.3567 ],\n",
       "        [2067.019  ],\n",
       "        [2080.676  ],\n",
       "        [2085.3257 ],\n",
       "        [2082.0735 ],\n",
       "        [2075.8442 ],\n",
       "        [2075.371  ],\n",
       "        [2078.6086 ],\n",
       "        [2084.9163 ],\n",
       "        [2092.8757 ],\n",
       "        [2107.532  ],\n",
       "        [2126.2292 ],\n",
       "        [2146.0974 ],\n",
       "        [2165.1465 ],\n",
       "        [2181.4565 ],\n",
       "        [2193.2424 ],\n",
       "        [2197.1018 ],\n",
       "        [2191.5195 ],\n",
       "        [2177.989  ],\n",
       "        [2156.7893 ],\n",
       "        [2128.2214 ],\n",
       "        [2101.0298 ],\n",
       "        [2078.5093 ],\n",
       "        [2064.2173 ],\n",
       "        [2055.658  ],\n",
       "        [2047.2668 ],\n",
       "        [2037.5453 ],\n",
       "        [2029.1526 ],\n",
       "        [2021.6447 ],\n",
       "        [2016.6302 ],\n",
       "        [2012.4795 ],\n",
       "        [2008.1666 ],\n",
       "        [2004.8528 ],\n",
       "        [2003.1495 ],\n",
       "        [2001.5024 ],\n",
       "        [1994.6371 ],\n",
       "        [1983.6433 ],\n",
       "        [1971.403  ],\n",
       "        [1959.4167 ],\n",
       "        [1947.0481 ],\n",
       "        [1934.9207 ],\n",
       "        [1924.3208 ],\n",
       "        [1915.9436 ],\n",
       "        [1912.3779 ],\n",
       "        [1917.1688 ],\n",
       "        [1930.0327 ],\n",
       "        [1949.9537 ],\n",
       "        [1971.4255 ],\n",
       "        [1988.0781 ],\n",
       "        [1994.5625 ],\n",
       "        [1991.0978 ],\n",
       "        [1981.1602 ],\n",
       "        [1968.4885 ],\n",
       "        [1955.7275 ],\n",
       "        [1945.2389 ],\n",
       "        [1936.6566 ],\n",
       "        [1931.5222 ],\n",
       "        [1931.4036 ],\n",
       "        [1937.6079 ],\n",
       "        [1949.3433 ],\n",
       "        [1963.4191 ],\n",
       "        [1978.239  ],\n",
       "        [1990.8124 ],\n",
       "        [1998.2155 ],\n",
       "        [2000.5673 ],\n",
       "        [1999.3904 ],\n",
       "        [2004.3506 ],\n",
       "        [2021.8315 ],\n",
       "        [2050.853  ],\n",
       "        [2088.4602 ],\n",
       "        [2129.1824 ],\n",
       "        [2165.9226 ],\n",
       "        [2196.9749 ],\n",
       "        [2219.9885 ],\n",
       "        [2231.8982 ],\n",
       "        [2234.1084 ],\n",
       "        [2231.3455 ],\n",
       "        [2228.9307 ],\n",
       "        [2229.2642 ],\n",
       "        [2229.8745 ],\n",
       "        [2229.943  ],\n",
       "        [2229.7551 ],\n",
       "        [2230.2197 ],\n",
       "        [2230.6802 ],\n",
       "        [2229.493  ],\n",
       "        [2222.9495 ],\n",
       "        [2208.0679 ],\n",
       "        [2185.481  ],\n",
       "        [2158.9111 ],\n",
       "        [2134.1172 ],\n",
       "        [2113.7073 ],\n",
       "        [2101.2212 ],\n",
       "        [2098.3167 ],\n",
       "        [2101.7703 ],\n",
       "        [2107.5857 ],\n",
       "        [2112.003  ],\n",
       "        [2112.1685 ],\n",
       "        [2108.987  ],\n",
       "        [2104.9539 ],\n",
       "        [2100.67   ],\n",
       "        [2096.5784 ],\n",
       "        [2095.1194 ],\n",
       "        [2095.7036 ],\n",
       "        [2097.285  ],\n",
       "        [2100.9116 ],\n",
       "        [2105.149  ],\n",
       "        [2107.1084 ],\n",
       "        [2104.613  ],\n",
       "        [2096.8477 ],\n",
       "        [2086.4004 ],\n",
       "        [2074.3752 ],\n",
       "        [2065.0269 ],\n",
       "        [2060.9517 ],\n",
       "        [2063.2993 ],\n",
       "        [2072.8665 ],\n",
       "        [2084.3972 ],\n",
       "        [2093.8499 ],\n",
       "        [2100.179  ],\n",
       "        [2105.3206 ],\n",
       "        [2109.5535 ],\n",
       "        [2115.4688 ],\n",
       "        [2125.111  ],\n",
       "        [2137.076  ],\n",
       "        [2150.0452 ],\n",
       "        [2160.5981 ],\n",
       "        [2168.2847 ],\n",
       "        [2174.4934 ],\n",
       "        [2181.002  ],\n",
       "        [2189.9211 ],\n",
       "        [2200.619  ],\n",
       "        [2214.6636 ],\n",
       "        [2229.8726 ],\n",
       "        [2244.767  ],\n",
       "        [2259.6328 ],\n",
       "        [2280.018  ],\n",
       "        [2307.6638 ],\n",
       "        [2340.6528 ],\n",
       "        [2373.9138 ],\n",
       "        [2402.6987 ],\n",
       "        [2420.5042 ],\n",
       "        [2426.3389 ],\n",
       "        [2422.9766 ],\n",
       "        [2417.4048 ],\n",
       "        [2410.4214 ],\n",
       "        [2403.6172 ],\n",
       "        [2398.5269 ],\n",
       "        [2397.307  ],\n",
       "        [2403.8884 ],\n",
       "        [2416.6877 ],\n",
       "        [2435.7    ],\n",
       "        [2459.4692 ],\n",
       "        [2483.1716 ],\n",
       "        [2502.882  ],\n",
       "        [2517.0532 ]], dtype=float32),)"
      ]
     },
     "execution_count": 104,
     "metadata": {},
     "output_type": "execute_result"
    }
   ],
   "source": [
    "train_predict=m*train_pred\n",
    "test_predict=m*test_pred\n",
    "train_predict,"
   ]
  },
  {
   "cell_type": "code",
   "execution_count": 115,
   "id": "0b37eebd",
   "metadata": {},
   "outputs": [
    {
     "data": {
      "text/plain": [
       "66.53980297901896"
      ]
     },
     "execution_count": 115,
     "metadata": {},
     "output_type": "execute_result"
    }
   ],
   "source": [
    "import math\n",
    "from sklearn.metrics import mean_squared_error\n",
    "math.sqrt(mean_squared_error(Y_train*m,train_predict))"
   ]
  },
  {
   "cell_type": "code",
   "execution_count": 116,
   "id": "b3995e92",
   "metadata": {},
   "outputs": [
    {
     "data": {
      "text/plain": [
       "<matplotlib.legend.Legend at 0x1bdd71d4df0>"
      ]
     },
     "execution_count": 116,
     "metadata": {},
     "output_type": "execute_result"
    },
    {
     "data": {
      "image/png": "[encoded data removed]",
      "text/plain": [
       "<Figure size 432x288 with 1 Axes>"
      ]
     },
     "metadata": {
      "needs_background": "light"
     },
     "output_type": "display_data"
    }
   ],
   "source": [
    "\n",
    "look_back=30\n",
    "Train_predict=np.empty_like(df)\n",
    "Train_predict[:,:]=np.nan\n",
    "Train_predict[look_back:len(train_pred)+look_back,:]=train_predict\n",
    "Test_predict=np.empty_like(df)\n",
    "Test_predict[:,:]=np.nan\n",
    "Test_predict[len(train_pred)+2*(look_back)+1:len(df)-1,:]=test_predict\n",
    "plt.plot(df*m)\n",
    "plt.plot(Train_predict)\n",
    "plt.plot(Test_predict)\n",
    "plt.legend(['Actual_stock','Train_pred','Test_pred'])\n",
    "\n"
   ]
  },
  {
   "cell_type": "code",
   "execution_count": null,
   "id": "d8ab5014",
   "metadata": {},
   "outputs": [],
   "source": []
  }
 ],
 "metadata": {
  "kernelspec": {
   "display_name": "Python 3",
   "language": "python",
   "name": "python3"
  },
  "language_info": {
   "codemirror_mode": {
    "name": "ipython",
    "version": 3
   },
   "file_extension": ".py",
   "mimetype": "text/x-python",
   "name": "python",
   "nbconvert_exporter": "python",
   "pygments_lexer": "ipython3",
   "version": "3.8.8"
  }
 },
 "nbformat": 4,
 "nbformat_minor": 5
}
